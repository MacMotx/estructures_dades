{
 "cells": [
  {
   "cell_type": "markdown",
   "id": "be03b8f1",
   "metadata": {},
   "source": [
    "### Exercici 1\n",
    "\n",
    "Crea una llista que agrupi els mesos de l’any en trimestres (1T: Gener, Febrer i Març, 2T: Abril, Maig, Juny...), és a dir, una llista amb 4 llistes dins."
   ]
  },
  {
   "cell_type": "code",
   "execution_count": 6,
   "id": "46c0512b",
   "metadata": {},
   "outputs": [
    {
     "name": "stdout",
     "output_type": "stream",
     "text": [
      "[['Gener', 'Febrer', 'Març'], ['Abril', 'Maig', 'Juny'], ['Juliol', 'Agost', 'Setembre'], ['Octubre', 'Novembre', 'Desembre']]\n"
     ]
    }
   ],
   "source": [
    "mesos = ['Gener', 'Febrer', 'Març', 'Abril', 'Maig', 'Juny', 'Juliol', 'Agost', 'Setembre', 'Octubre', 'Novembre', 'Desembre'] \n",
    "trimestres = []\n",
    "for i in range(0, len(mesos),3):\n",
    "    trim = mesos[i:i+3]\n",
    "    trimestres.append(trim)\n",
    "print(trimestres)\n",
    "    "
   ]
  },
  {
   "cell_type": "markdown",
   "id": "fcf860fc",
   "metadata": {},
   "source": [
    "### Exercici 2\n",
    "\n",
    "Crea un codi que et permeti accedir a:\n",
    "\n",
    "   - (A) El segon mes del primer trimestre \n",
    "   - (B)Els mesos del primer trimestre\n",
    "   - (C) Setembre i octubre\n"
   ]
  },
  {
   "cell_type": "code",
   "execution_count": 21,
   "id": "0ad59178",
   "metadata": {},
   "outputs": [
    {
     "name": "stdout",
     "output_type": "stream",
     "text": [
      "['Febrer']\n",
      "['Gener', 'Febrer', 'Març']\n",
      "['Setembre', 'Octubre']\n"
     ]
    }
   ],
   "source": [
    "#(A)\n",
    "segon_T1 = [mes for trimestre in trimestres for mes in trimestre \n",
    "            if trimestre.index(mes) == 1 and trimestres.index(trimestre) == 0]\n",
    "print(segon_T1)\n",
    "\n",
    "#B\n",
    "mesos_T1 = trimestres[0]\n",
    "print(mesos_T1)\n",
    "\n",
    "#C\n",
    "Set_Oct = [mes for trimestre in trimestres for mes in trimestre\n",
    "          if mes == 'Setembre' or mes == 'Octubre']\n",
    "print(Set_Oct)\n",
    "\n",
    "    "
   ]
  },
  {
   "cell_type": "markdown",
   "id": "d6d20e60",
   "metadata": {},
   "source": [
    "### Exercici 3\n",
    "\n",
    "Crea una llista amb nombres desordenats i respon a les següents preguntes:\n",
    "\n",
    "Quants números hi ha?\n",
    "    \n",
    "   - Quantes vegades apareix el número 3\n",
    "   - Quantes vegades apareixen els nombres 3 i 4?\n",
    "   - Quin és el número més gran?\n",
    "   - Quins són els 3 números més petits?\n",
    "   - Quin és el rang d’aquesta llista?\n"
   ]
  },
  {
   "cell_type": "code",
   "execution_count": 13,
   "id": "c8af087b",
   "metadata": {},
   "outputs": [
    {
     "name": "stdout",
     "output_type": "stream",
     "text": [
      "[3, 5, 3, 7, 11, 20, 15, 15, 14, 13, 10, 19, 18, 20]\n",
      "El numero 3 apareix 2 vegades.\n",
      "\n",
      "Els numeros 3 i 4 apareixen 2 vegades.\n",
      "\n",
      "El numero mes gran es 20.\n",
      "\n",
      "Els tres numeros mes petits son [3, 3, 5].\n",
      "\n",
      "El rang de la llista es 14\n"
     ]
    }
   ],
   "source": [
    "import random\n",
    "\n",
    "randlist = []\n",
    "for i in range(0,14):\n",
    "    n = random.randint(1,20)\n",
    "    randlist.append(n)\n",
    "\n",
    "print(randlist)\n",
    "print(f'El numero 3 apareix {randlist.count(3)} vegades.\\n')\n",
    "print(f'Els numeros 3 i 4 apareixen {randlist.count(3) + randlist.count(4)} vegades.\\n')\n",
    "print(f'El numero mes gran es {max(randlist)}.\\n')\n",
    "print(f'Els tres numeros mes petits son {sorted(randlist)[:3]}.\\n')\n",
    "print('El rang de la llista es 14')\n",
    "#El rang? 14 suposo. \n",
    "\n",
    "\n",
    "\n"
   ]
  },
  {
   "cell_type": "markdown",
   "id": "f33b9120",
   "metadata": {},
   "source": [
    "### Exercici 4\n",
    "\n",
    "Crea un diccionari de la següent forma i respon a les preguntes:\n",
    "\n",
    "compra = { \"Pomes\" : {\"Qty\": 5, \"€\": 0.42}, \"Peres\" : {\"Qty\": 3, \"€\": 0.66} }\n",
    "\n",
    "   - Afegeix alguna fruita més\n",
    "   - Quant han costat les peres en total?\n",
    "   - Quantes fruites hem comprat en total?\n",
    "   - Quina és la fruita més cara?\n"
   ]
  },
  {
   "cell_type": "code",
   "execution_count": 15,
   "id": "80afa92f",
   "metadata": {},
   "outputs": [
    {
     "name": "stdout",
     "output_type": "stream",
     "text": [
      "compra: {'Pomes': {'Qty': 5, '€': 0.42}, 'Peres': {'Qty': 3, '€': 0.66}, 'Platan': {'Qty': 7, '€': 1.5}}\n",
      "\n",
      "Cost Peres: 1.98\n",
      "\n",
      "Numero de fruites a la compra: 3\n",
      "\n",
      "La fruita mes cara es 1.5\n",
      "\n"
     ]
    }
   ],
   "source": [
    "compra = {}\n",
    "compra[\"Pomes\"] = {\"Qty\": 5, \"€\": 0.42}\n",
    "compra[\"Peres\"] = {\"Qty\": 3, \"€\": 0.66} \n",
    "\n",
    "compra.update({\"Platan\":{\"Qty\": 7, \"€\": 1.5}})\n",
    "print(f'compra: {compra}\\n')\n",
    "\n",
    "x = compra.get(\"Peres\")\n",
    "y = 1\n",
    "for x in x.values():\n",
    "    y *= x\n",
    "    cost_peres = y\n",
    "    \n",
    "print(f'Cost Peres: {cost_peres}\\n')\n",
    "\n",
    "num_fruites = len(compra.keys())\n",
    "print(f'Numero de fruites a la compra: {num_fruites}\\n')\n",
    "\n",
    "\n",
    "preu_car = max(x[\"€\"]for x in compra.values())\n",
    "print(f'La fruita mes cara  {max(x[\"€\"]for x in compra.values())}\\n')\n",
    "#preu = 0\n",
    "#a = compra.values()\n",
    "#for i in a.keys():\n",
    "#    print(i.value())\n",
    "    \n"
   ]
  },
  {
   "cell_type": "code",
   "execution_count": null,
   "id": "3e32d67f",
   "metadata": {},
   "outputs": [],
   "source": []
  }
 ],
 "metadata": {
  "kernelspec": {
   "display_name": "Python 3 (ipykernel)",
   "language": "python",
   "name": "python3"
  },
  "language_info": {
   "codemirror_mode": {
    "name": "ipython",
    "version": 3
   },
   "file_extension": ".py",
   "mimetype": "text/x-python",
   "name": "python",
   "nbconvert_exporter": "python",
   "pygments_lexer": "ipython3",
   "version": "3.9.7"
  }
 },
 "nbformat": 4,
 "nbformat_minor": 5
}
